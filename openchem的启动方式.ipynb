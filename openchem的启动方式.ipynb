{
 "cells": [
  {
   "cell_type": "markdown",
   "metadata": {},
   "source": [
    "openchem学习有感"
   ]
  },
  {
   "cell_type": "markdown",
   "metadata": {},
   "source": [
    "以logp的计算为例 首先我们按照下载的文件中的一个简单示例（This config file provides an example of building a multi-layer perceptron for prediction of logP values）\n",
    "\n",
    "我们按照所给示例进行简单了解后需要知道几个问题\n",
    "\n",
    "1：文件所在位置（如果我们后续需要训练自己的数据，这个文件位置会随之更改，最简单的办法就是存在与需要运行的文件在同一目录下（但是如果后续需要整理，这或许是一件比较麻烦的事情，如果没在同一目录下，你可能需要指定绝对路径，或者使用../等操作）\n",
    "\n",
    "2：二八原则（将数据80%拿来训练，20%用于测试）\n",
    "\n",
    "3：参数可以进行修改（学习效率，批次等...）"
   ]
  },
  {
   "cell_type": "markdown",
   "metadata": {},
   "source": [
    "为了指定GPU用于加速，我们需要进行如下操作（官网的方式是基于linux系统，windows系统下面不能那样操作，会报错）"
   ]
  },
  {
   "cell_type": "code",
   "execution_count": null,
   "metadata": {},
   "outputs": [],
   "source": [
    "import os\n",
    "os.environ[\"CUDA_VISIBLE_DEVICES\"] = '0' # 在文件最开始部分加入这两行代码  指定cuda:0 电脑只有一个GPU 所以为0 "
   ]
  },
  {
   "cell_type": "markdown",
   "metadata": {},
   "source": [
    "在上述操作结束之后我们需要进行如下操作\n",
    "\n",
    "1：找到文件所在目录下的上一级目录的run.py文件 用Pycharm打开（或者在终端输入进入指定文件夹下面进行运行） 但是个人觉得直接pycharm打开即可\n",
    "\n",
    "2：运行如下操作：在面板左上角setting下面点击第二个 运行任何内容\n",
    "\n",
    "3：输入：python run.py --config_file=logp2.py --mode=train_eval （此处已经指定GPU 如果文件报错，大概率是路径问题，mode=train_eval\n",
    "\n",
    "在命令行参数--mode=train_eval中，mode是一个标志，用于指定模型运行的模式。在这个特定的例子中，train_eval指示模型同时进行训练（train）和评估（eval）的过程。下面是这个参数通常涉及的一些关键点：\n",
    "\n",
    "训练（Train）：这一部分涉及到模型权重的更新。模型会根据输入数据和标签进行前向传播，计算损失函数，然后通过反向传播更新权重，以最小化预测误差。\n",
    "\n",
    "评估（Eval）：评估模式下，模型不更新其权重，主要用于检验模型在未见过的数据上的表现。这通常涉及计算各种性能指标，如准确率、AUC、R²分数等，以评估模型的泛化能力。\n",
    "\n",
    "当mode=train_eval时，通常意味着训练过程会被分为多个周期或epochs，在每个epoch的训练阶段结束后，会立即进入评估阶段。评估可能在验证集上进行，以监控模型的训练进展，比如通过早停策略防止过拟合，或者调整学习率等。这种方式有助于实时了解模型的学习状态，决定何时停止训练，以及判断模型是否已经过拟合或欠拟合。\n",
    "\n",
    "总结来说，mode=train_eval确保了模型不仅进行学习（通过训练过程调整权重），还定期检查其学习成果（通过评估过程），这对于监督学习任务中模型的开发和调优非常关键。 具体见官网"
   ]
  },
  {
   "cell_type": "markdown",
   "metadata": {},
   "source": [
    "由于电脑只有一个GPU，在运行的时候尽量关闭其他软件和浏览器，给电脑留够内存，不然会报错（内存不足）\n",
    "\n",
    "运行结束后在目录logs/logp_mlp_logs/log.txt可以看见训练结果 当然还有分次的结果供查看。具体见文件"
   ]
  },
  {
   "cell_type": "markdown",
   "metadata": {},
   "source": [
    "或许我们会需要多次运行同一个文件，但是此时会报错已经有一个logs非零文件，我们可以做如下处理\n",
    "\n",
    "解决这个问题有两种方式：\n",
    "\n",
    "使用--continue_learning标志：正如错误信息所建议的，如果你想要基于之前的训练状态继续学习（比如进行更多的训练轮次或微调模型），你应该在命令行中添加--continue_learning标志。这告诉程序可以继续在已有日志目录的基础上进行训练。所以，你的命令应该修改为：\n",
    "\n",
    "python run.py --config_file=logp2.py --mode=train_eval --continue_learning\n",
    "这样，程序会尝试加载之前保存的模型状态（如果有的话）并继续训练。\n",
    "\n",
    "清理或更改日志目录：另一种方法是手动删除日志目录下的所有内容，或者更改日志保存的目录，以确保程序在一个全新的或干净的目录下开始训练。这适用于你希望从头开始全新训练的情况。如果你选择清理目录，请谨慎操作，确保不会误删重要文件。\n",
    "\n",
    "如果你决定更改日志目录，你可能需要在配置文件或命令行参数中指定新的日志目录路径，具体取决于你的应用如何配置日志输出路径。\n",
    "\n",
    "如果你希望保留上一次的结果，你可以自己进行备份即可"
   ]
  }
 ],
 "metadata": {
  "language_info": {
   "name": "python"
  }
 },
 "nbformat": 4,
 "nbformat_minor": 2
}
